{
  "nbformat": 4,
  "nbformat_minor": 0,
  "metadata": {
    "colab": {
      "provenance": []
    },
    "kernelspec": {
      "name": "python3",
      "display_name": "Python 3"
    },
    "language_info": {
      "name": "python"
    }
  },
  "cells": [
    {
      "cell_type": "code",
      "execution_count": 10,
      "metadata": {
        "id": "lJjw3Q7k2vzJ"
      },
      "outputs": [],
      "source": [
        "class Jutsu:\n",
        "    def __init__(self, name, damage, chakra_cost):\n",
        "        self.name = name\n",
        "        self.damage = damage\n",
        "        self.chakra_cost = chakra_cost\n",
        "\n",
        "    def use(self, user, target):\n",
        "        if user.chakra >= self.chakra_cost:\n",
        "            target.health -= self.damage\n",
        "            user.chakra -= self.chakra_cost\n",
        "            print(f\"{user.name} uses {self.name} on {target.name} for {self.damage} damage.\")\n",
        "            print(f\"{target.name} has {target.health} health remaining.\")\n",
        "            print(f\"{user.name} has {user.chakra} chakra remaining.\")\n",
        "        else:\n",
        "            print(f\"{user.name} does not have enough chakra to use {self.name}.\")\n"
      ]
    },
    {
      "cell_type": "code",
      "source": [
        "class Character:\n",
        "    def __init__(self, name, health, attack_power, chakra):\n",
        "        self.name = name\n",
        "        self.health = health\n",
        "        self.attack_power = attack_power\n",
        "        self.chakra = chakra\n",
        "        self.jutsu_list = []\n",
        "\n",
        "    def attack(self, other):\n",
        "        other.health -= self.attack_power\n",
        "        print(f\"{self.name} attacks {other.name} for {self.attack_power} damage.\")\n",
        "        print(f\"{other.name} has {other.health} health remaining.\")\n",
        "\n",
        "    def is_alive(self):\n",
        "        return self.health > 0\n",
        "\n",
        "    def add_jutsu(self, jutsu):\n",
        "        self.jutsu_list.append(jutsu)\n",
        "\n",
        "    def use_jutsu(self, jutsu_name, target):\n",
        "        for jutsu in self.jutsu_list:\n",
        "            if jutsu.name == jutsu_name:\n",
        "                jutsu.use(self, target)\n",
        "                return\n",
        "        print(f\"{self.name} does not know {jutsu_name}.\")\n"
      ],
      "metadata": {
        "id": "8egzXpoP24OG"
      },
      "execution_count": 11,
      "outputs": []
    },
    {
      "cell_type": "code",
      "source": [
        "class Obito(Character):\n",
        "    def __init__(self):\n",
        "        super().__init__(name=\"obito\", health=100, attack_power=20, chakra=100)\n",
        "        self.add_jutsu(Jutsu(\"Fire Style: Fireball Jutsu\", damage=30, chakra_cost=20))\n",
        "        self.add_jutsu(Jutsu(\"Kamui\", damage=40, chakra_cost=30))\n",
        "\n",
        "class Naruto(Character):\n",
        "    def __init__(self):\n",
        "        super().__init__(name=\"Naruto\", health=120, attack_power=15, chakra=100)\n",
        "        self.add_jutsu(Jutsu(\"Rasengan\", damage=35, chakra_cost=25))\n",
        "        self.add_jutsu(Jutsu(\"Shadow Clone Jutsu\", damage=25, chakra_cost=15))\n"
      ],
      "metadata": {
        "id": "-09C1qkc3g2R"
      },
      "execution_count": 13,
      "outputs": []
    },
    {
      "cell_type": "code",
      "source": [
        "def fight(obito, naruto):\n",
        "    turn = 0\n",
        "    while obito.is_alive() and naruto.is_alive():\n",
        "        if turn % 2 == 0:\n",
        "            action = input(f\"{obito.name}'s turn. Type 'attack' or the name of the jutsu: \")\n",
        "            if action == \"attack\":\n",
        "                obito.attack(naruto)\n",
        "            else:\n",
        "                obito.use_jutsu(action, naruto)\n",
        "        else:\n",
        "            action = input(f\"{naruto.name}'s turn. Type 'attack' or the name of the jutsu: \")\n",
        "            if action == \"attack\":\n",
        "                naruto.attack(obito)\n",
        "            else:\n",
        "                naruto.use_jutsu(action, obito)\n",
        "\n",
        "        if not obito.is_alive():\n",
        "            print(f\"{obito.name} has been defeated!\")\n",
        "            break\n",
        "        if not naruto.is_alive():\n",
        "            print(f\"{naruto.name} has been defeated!\")\n",
        "            break\n",
        "        turn += 1\n",
        "\n",
        "if __name__ == \"__main__\":\n",
        "    obito = Obito()\n",
        "    naruto = Naruto()\n",
        "    fight(obito, naruto)\n"
      ],
      "metadata": {
        "colab": {
          "base_uri": "https://localhost:8080/"
        },
        "id": "RI7i5bxJ6V10",
        "outputId": "55308cfa-db2a-4f10-b928-8a261f4863bb"
      },
      "execution_count": 14,
      "outputs": [
        {
          "output_type": "stream",
          "name": "stdout",
          "text": [
            "obito's turn. Type 'attack' or the name of the jutsu: fireball\n",
            "obito does not know fireball.\n",
            "Naruto's turn. Type 'attack' or the name of the jutsu: rasengan\n",
            "Naruto does not know rasengan.\n",
            "obito's turn. Type 'attack' or the name of the jutsu: Kamui\n",
            "obito uses Kamui on Naruto for 40 damage.\n",
            "Naruto has 80 health remaining.\n",
            "obito has 70 chakra remaining.\n",
            "Naruto's turn. Type 'attack' or the name of the jutsu: Rasengan\n",
            "Naruto uses Rasengan on obito for 35 damage.\n",
            "obito has 65 health remaining.\n",
            "Naruto has 75 chakra remaining.\n",
            "obito's turn. Type 'attack' or the name of the jutsu: Kamui\n",
            "obito uses Kamui on Naruto for 40 damage.\n",
            "Naruto has 40 health remaining.\n",
            "obito has 40 chakra remaining.\n",
            "Naruto's turn. Type 'attack' or the name of the jutsu: Rasengan\n",
            "Naruto uses Rasengan on obito for 35 damage.\n",
            "obito has 30 health remaining.\n",
            "Naruto has 50 chakra remaining.\n",
            "obito's turn. Type 'attack' or the name of the jutsu: Kamui\n",
            "obito uses Kamui on Naruto for 40 damage.\n",
            "Naruto has 0 health remaining.\n",
            "obito has 10 chakra remaining.\n",
            "Naruto has been defeated!\n"
          ]
        }
      ]
    }
  ]
}